{
 "cells": [
  {
   "cell_type": "code",
   "execution_count": 1,
   "id": "16441471-beaf-468f-aeaf-050feb9c5eaf",
   "metadata": {},
   "outputs": [],
   "source": [
    "using JSON3"
   ]
  },
  {
   "cell_type": "code",
   "execution_count": 2,
   "id": "842dfe5b-3ae4-4d93-b188-fc0ffa3a2067",
   "metadata": {},
   "outputs": [],
   "source": [
    "using IJulia: InlineDisplay, display_mimejson\n",
    "using StructTypes"
   ]
  },
  {
   "cell_type": "code",
   "execution_count": 9,
   "id": "edddd0a0-bb42-4cd7-9eb3-bedcd5716f35",
   "metadata": {},
   "outputs": [
    {
     "data": {
      "application/vnd.json+orbit": "{\"val\":3.141592653589793}",
      "text/plain": [
       "Orbit(3.141592653589793)"
      ]
     },
     "execution_count": 9,
     "metadata": {},
     "output_type": "execute_result"
    },
    {
     "name": "stdout",
     "output_type": "stream",
     "text": [
      "\"norbert\" = \"norbert\"\n"
     ]
    }
   ],
   "source": [
    "struct Orbit\n",
    "    val::Float64\n",
    "end\n",
    "StructTypes.StructType(::Type{Orbit}) = StructTypes.Struct()\n",
    "\n",
    "o = Orbit(π)"
   ]
  },
  {
   "cell_type": "code",
   "execution_count": 4,
   "id": "41756312-d192-4732-b080-ac72e03aea30",
   "metadata": {},
   "outputs": [],
   "source": [
    "function IJulia.display_dict(p::Orbit)\n",
    "    @show \"norbert\"\n",
    "    Dict(\n",
    "        \"application/vnd.json+orbit\" => JSON3.write(p),\n",
    "        \"text/plain\" => sprint(show, \"text/plain\", p),\n",
    "    )\n",
    "end"
   ]
  },
  {
   "cell_type": "code",
   "execution_count": 8,
   "id": "ad79c113-3a11-4fdc-b8ee-be38935d65fe",
   "metadata": {},
   "outputs": [
    {
     "ename": "LoadError",
     "evalue": "MethodError: no method matching Orbit()\n\u001b[0mClosest candidates are:\n\u001b[0m  Orbit(\u001b[91m::Float64\u001b[39m) at In[3]:2\n\u001b[0m  Orbit(\u001b[91m::Any\u001b[39m) at In[3]:2",
     "output_type": "error",
     "traceback": [
      "MethodError: no method matching Orbit()\n\u001b[0mClosest candidates are:\n\u001b[0m  Orbit(\u001b[91m::Float64\u001b[39m) at In[3]:2\n\u001b[0m  Orbit(\u001b[91m::Any\u001b[39m) at In[3]:2",
      "",
      "Stacktrace:",
      " [1] top-level scope",
      "   @ In[8]:1",
      " [2] eval",
      "   @ ./boot.jl:360 [inlined]",
      " [3] include_string(mapexpr::typeof(REPL.softscope), mod::Module, code::String, filename::String)",
      "   @ Base ./loading.jl:1116"
     ]
    }
   ],
   "source": [
    "IJulia.display(InlineDisplay(), \"application/vnd.json+orbit\", Orbit())"
   ]
  },
  {
   "cell_type": "code",
   "execution_count": 6,
   "id": "f8778461-fb19-4bc4-829a-fd2d6e7b4b47",
   "metadata": {},
   "outputs": [
    {
     "ename": "LoadError",
     "evalue": "MethodError: no method matching Orbit()\n\u001b[0mClosest candidates are:\n\u001b[0m  Orbit(\u001b[91m::Float64\u001b[39m) at In[3]:2\n\u001b[0m  Orbit(\u001b[91m::Any\u001b[39m) at In[3]:2",
     "output_type": "error",
     "traceback": [
      "MethodError: no method matching Orbit()\n\u001b[0mClosest candidates are:\n\u001b[0m  Orbit(\u001b[91m::Float64\u001b[39m) at In[3]:2\n\u001b[0m  Orbit(\u001b[91m::Any\u001b[39m) at In[3]:2",
      "",
      "Stacktrace:",
      " [1] top-level scope",
      "   @ In[6]:1",
      " [2] eval",
      "   @ ./boot.jl:360 [inlined]",
      " [3] include_string(mapexpr::typeof(REPL.softscope), mod::Module, code::String, filename::String)",
      "   @ Base ./loading.jl:1116"
     ]
    }
   ],
   "source": [
    "Orbit()"
   ]
  },
  {
   "cell_type": "code",
   "execution_count": 7,
   "id": "ae326cfb-ee7e-42ba-aee1-270f53e42ab8",
   "metadata": {},
   "outputs": [],
   "source": [
    "Base.Multimedia.istextmime(::MIME\"application/vnd.json+orbit\") = true\n",
    "function Base.show(io::IO, ::MIME\"application/vnd.json+orbit\", p::Orbit)\n",
    "    print(io, JSON3.write(p))\n",
    "end"
   ]
  },
  {
   "cell_type": "code",
   "execution_count": 12,
   "id": "1b043d49-74fe-4c82-9104-64720680e6a3",
   "metadata": {},
   "outputs": [
    {
     "data": {
      "application/vnd.json+orbit": "{\"val\":3.141592653589793}",
      "text/plain": [
       "Orbit(3.141592653589793)"
      ]
     },
     "execution_count": 12,
     "metadata": {},
     "output_type": "execute_result"
    },
    {
     "name": "stdout",
     "output_type": "stream",
     "text": [
      "\"norbert\" = \"norbert\"\n"
     ]
    }
   ],
   "source": [
    "o"
   ]
  },
  {
   "cell_type": "code",
   "execution_count": null,
   "id": "088b773d-257f-42a4-ba10-56944a8e6336",
   "metadata": {},
   "outputs": [],
   "source": []
  }
 ],
 "metadata": {
  "kernelspec": {
   "display_name": "Julia 1.6.7",
   "language": "julia",
   "name": "julia-1.6"
  },
  "language_info": {
   "file_extension": ".jl",
   "mimetype": "application/julia",
   "name": "julia",
   "version": "1.6.7"
  },
  "toc-autonumbering": false,
  "toc-showcode": false,
  "toc-showmarkdowntxt": false
 },
 "nbformat": 4,
 "nbformat_minor": 5
}
