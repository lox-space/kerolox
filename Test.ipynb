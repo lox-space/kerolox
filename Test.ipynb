{
 "cells": [
  {
   "cell_type": "code",
   "execution_count": 1,
   "id": "16441471-beaf-468f-aeaf-050feb9c5eaf",
   "metadata": {},
   "outputs": [],
   "source": [
    "using JSON3"
   ]
  },
  {
   "cell_type": "code",
   "execution_count": 2,
   "id": "842dfe5b-3ae4-4d93-b188-fc0ffa3a2067",
   "metadata": {},
   "outputs": [],
   "source": [
    "using IJulia: InlineDisplay, display_mimejson\n",
    "using StructTypes"
   ]
  },
  {
   "cell_type": "code",
   "execution_count": 3,
   "id": "edddd0a0-bb42-4cd7-9eb3-bedcd5716f35",
   "metadata": {},
   "outputs": [],
   "source": [
    "struct Orbit\n",
    "    val::Float64\n",
    "end\n",
    "StructTypes.StructType(::Type{Orbit}) = StructTypes.Struct()"
   ]
  },
  {
   "cell_type": "code",
   "execution_count": 4,
   "id": "41756312-d192-4732-b080-ac72e03aea30",
   "metadata": {},
   "outputs": [],
   "source": [
    "function IJulia.display_dict(p::Orbit)\n",
    "    @show \"norbert\"\n",
    "    Dict(\n",
    "        \"application/vnd.json+orbit\" => JSON3.write(p),\n",
    "        \"text/plain\" => sprint(show, \"text/plain\", p),\n",
    "    )\n",
    "end\n",
    "\n",
    "Base.Multimedia.istextmime(::MIME\"application/vnd.json+orbit\") = true\n",
    "function Base.show(io::IO, ::MIME\"application/vnd.json+orbit\", p::Orbit)\n",
    "    print(io, JSON3.write(p))\n",
    "end"
   ]
  },
  {
   "cell_type": "code",
   "execution_count": 5,
   "id": "f8778461-fb19-4bc4-829a-fd2d6e7b4b47",
   "metadata": {},
   "outputs": [
    {
     "data": {
      "application/vnd.json+orbit": "{\"val\":3.0}",
      "text/plain": [
       "Orbit(3.0)"
      ]
     },
     "execution_count": 5,
     "metadata": {},
     "output_type": "execute_result"
    },
    {
     "name": "stdout",
     "output_type": "stream",
     "text": [
      "\"norbert\" = \"norbert\"\n"
     ]
    }
   ],
   "source": [
    "Orbit(3.0)"
   ]
  },
  {
   "cell_type": "code",
   "execution_count": null,
   "id": "088b773d-257f-42a4-ba10-56944a8e6336",
   "metadata": {},
   "outputs": [],
   "source": []
  }
 ],
 "metadata": {
  "kernelspec": {
   "display_name": "Julia 1.6.7",
   "language": "julia",
   "name": "julia-1.6"
  },
  "language_info": {
   "file_extension": ".jl",
   "mimetype": "application/julia",
   "name": "julia",
   "version": "1.6.7"
  },
  "toc-autonumbering": false,
  "toc-showcode": false,
  "toc-showmarkdowntxt": false
 },
 "nbformat": 4,
 "nbformat_minor": 5
}
